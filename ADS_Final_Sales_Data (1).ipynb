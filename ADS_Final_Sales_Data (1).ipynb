{
 "cells": [
  {
   "cell_type": "code",
   "execution_count": 1,
   "id": "1d84aef2-4ea1-42c7-bb21-88c8b344dda6",
   "metadata": {},
   "outputs": [],
   "source": [
    "import pandas as pd\n",
    "import numpy as np\n",
    "import matplotlib.pyplot as plt\n",
    "import seaborn as sns"
   ]
  },
  {
   "cell_type": "code",
   "execution_count": 2,
   "id": "6c42e8ac-95da-4c87-a9e6-ac780e1bf232",
   "metadata": {},
   "outputs": [],
   "source": [
    "df = pd.read_csv('healthcare_sales_dataset.csv')"
   ]
  },
  {
   "cell_type": "code",
   "execution_count": 3,
   "id": "5c039c0b-9e84-4105-8fdf-07e41ba011ea",
   "metadata": {},
   "outputs": [
    {
     "data": {
      "text/html": [
       "<div>\n",
       "<style scoped>\n",
       "    .dataframe tbody tr th:only-of-type {\n",
       "        vertical-align: middle;\n",
       "    }\n",
       "\n",
       "    .dataframe tbody tr th {\n",
       "        vertical-align: top;\n",
       "    }\n",
       "\n",
       "    .dataframe thead th {\n",
       "        text-align: right;\n",
       "    }\n",
       "</style>\n",
       "<table border=\"1\" class=\"dataframe\">\n",
       "  <thead>\n",
       "    <tr style=\"text-align: right;\">\n",
       "      <th></th>\n",
       "      <th>product_id</th>\n",
       "      <th>company_id</th>\n",
       "      <th>transaction_id</th>\n",
       "      <th>product_name</th>\n",
       "      <th>product_category</th>\n",
       "      <th>sale_amount</th>\n",
       "      <th>quantity_sold</th>\n",
       "      <th>price_per_unit</th>\n",
       "      <th>uom</th>\n",
       "      <th>address</th>\n",
       "      <th>region</th>\n",
       "      <th>customer_segment</th>\n",
       "      <th>sales_rep_name</th>\n",
       "      <th>date_of_sale</th>\n",
       "      <th>multiple_items</th>\n",
       "    </tr>\n",
       "  </thead>\n",
       "  <tbody>\n",
       "    <tr>\n",
       "      <th>0</th>\n",
       "      <td>PMFTMGPWLK</td>\n",
       "      <td>hospital_20</td>\n",
       "      <td>KH9NHAKRFF</td>\n",
       "      <td>Gauze Sponges</td>\n",
       "      <td>Medical Devices</td>\n",
       "      <td>463.07</td>\n",
       "      <td>85</td>\n",
       "      <td>5.45</td>\n",
       "      <td>packs</td>\n",
       "      <td>Washington, DC</td>\n",
       "      <td>Northeast</td>\n",
       "      <td>Hospital</td>\n",
       "      <td>Christopher Flores</td>\n",
       "      <td>8/5/2024</td>\n",
       "      <td>0</td>\n",
       "    </tr>\n",
       "    <tr>\n",
       "      <th>1</th>\n",
       "      <td>B2L09J6I8B</td>\n",
       "      <td>clinic_3</td>\n",
       "      <td>6XGV4E1D36</td>\n",
       "      <td>Scalpel Blades</td>\n",
       "      <td>Surgical Supplies</td>\n",
       "      <td>387.87</td>\n",
       "      <td>12</td>\n",
       "      <td>32.32</td>\n",
       "      <td>pieces</td>\n",
       "      <td>Chicago, IL</td>\n",
       "      <td>Midwest</td>\n",
       "      <td>Clinic</td>\n",
       "      <td>John Ponce</td>\n",
       "      <td>4/22/2024</td>\n",
       "      <td>1</td>\n",
       "    </tr>\n",
       "    <tr>\n",
       "      <th>2</th>\n",
       "      <td>TLJFSQ5K16</td>\n",
       "      <td>clinic_10</td>\n",
       "      <td>OGEAMK0FW0</td>\n",
       "      <td>Disposable Gloves</td>\n",
       "      <td>Medical Devices</td>\n",
       "      <td>336.95</td>\n",
       "      <td>26</td>\n",
       "      <td>12.96</td>\n",
       "      <td>boxes</td>\n",
       "      <td>Minneapolis, MN</td>\n",
       "      <td>Midwest</td>\n",
       "      <td>Clinic</td>\n",
       "      <td>Thomas Silva</td>\n",
       "      <td>9/30/2024</td>\n",
       "      <td>1</td>\n",
       "    </tr>\n",
       "    <tr>\n",
       "      <th>3</th>\n",
       "      <td>3BDN23AHDX</td>\n",
       "      <td>hospital_2</td>\n",
       "      <td>Y68IXY4B8S</td>\n",
       "      <td>Syringes, 50ml</td>\n",
       "      <td>Surgical Supplies</td>\n",
       "      <td>254.99</td>\n",
       "      <td>17</td>\n",
       "      <td>15.00</td>\n",
       "      <td>boxes</td>\n",
       "      <td>Boston, MA</td>\n",
       "      <td>Northeast</td>\n",
       "      <td>Hospital</td>\n",
       "      <td>Megan Chang</td>\n",
       "      <td>5/20/2024</td>\n",
       "      <td>0</td>\n",
       "    </tr>\n",
       "    <tr>\n",
       "      <th>4</th>\n",
       "      <td>3BDN23AHDX</td>\n",
       "      <td>clinic_8</td>\n",
       "      <td>3GU73WIOON</td>\n",
       "      <td>Syringes, 50ml</td>\n",
       "      <td>Medical Devices</td>\n",
       "      <td>291.24</td>\n",
       "      <td>66</td>\n",
       "      <td>4.41</td>\n",
       "      <td>boxes</td>\n",
       "      <td>Los Angeles, CA</td>\n",
       "      <td>West</td>\n",
       "      <td>Clinic</td>\n",
       "      <td>William Sullivan</td>\n",
       "      <td>5/13/2024</td>\n",
       "      <td>1</td>\n",
       "    </tr>\n",
       "  </tbody>\n",
       "</table>\n",
       "</div>"
      ],
      "text/plain": [
       "   product_id   company_id transaction_id       product_name  \\\n",
       "0  PMFTMGPWLK  hospital_20     KH9NHAKRFF      Gauze Sponges   \n",
       "1  B2L09J6I8B     clinic_3     6XGV4E1D36     Scalpel Blades   \n",
       "2  TLJFSQ5K16    clinic_10     OGEAMK0FW0  Disposable Gloves   \n",
       "3  3BDN23AHDX   hospital_2     Y68IXY4B8S     Syringes, 50ml   \n",
       "4  3BDN23AHDX     clinic_8     3GU73WIOON     Syringes, 50ml   \n",
       "\n",
       "    product_category  sale_amount  quantity_sold  price_per_unit     uom  \\\n",
       "0    Medical Devices       463.07             85            5.45   packs   \n",
       "1  Surgical Supplies       387.87             12           32.32  pieces   \n",
       "2    Medical Devices       336.95             26           12.96   boxes   \n",
       "3  Surgical Supplies       254.99             17           15.00   boxes   \n",
       "4    Medical Devices       291.24             66            4.41   boxes   \n",
       "\n",
       "           address     region customer_segment      sales_rep_name  \\\n",
       "0   Washington, DC  Northeast         Hospital  Christopher Flores   \n",
       "1      Chicago, IL    Midwest           Clinic          John Ponce   \n",
       "2  Minneapolis, MN    Midwest           Clinic        Thomas Silva   \n",
       "3       Boston, MA  Northeast         Hospital         Megan Chang   \n",
       "4  Los Angeles, CA       West           Clinic    William Sullivan   \n",
       "\n",
       "  date_of_sale  multiple_items  \n",
       "0     8/5/2024               0  \n",
       "1    4/22/2024               1  \n",
       "2    9/30/2024               1  \n",
       "3    5/20/2024               0  \n",
       "4    5/13/2024               1  "
      ]
     },
     "execution_count": 3,
     "metadata": {},
     "output_type": "execute_result"
    }
   ],
   "source": [
    "df.head()"
   ]
  },
  {
   "cell_type": "code",
   "execution_count": 4,
   "id": "fd3a6882-a971-445b-b150-9a86849e33c2",
   "metadata": {},
   "outputs": [
    {
     "data": {
      "text/plain": [
       "(10000, 15)"
      ]
     },
     "execution_count": 4,
     "metadata": {},
     "output_type": "execute_result"
    }
   ],
   "source": [
    "df.shape"
   ]
  },
  {
   "cell_type": "code",
   "execution_count": 5,
   "id": "b44ec1e2-351b-4c22-b4ad-24e35d22769b",
   "metadata": {},
   "outputs": [
    {
     "data": {
      "text/plain": [
       "product_id           object\n",
       "company_id           object\n",
       "transaction_id       object\n",
       "product_name         object\n",
       "product_category     object\n",
       "sale_amount         float64\n",
       "quantity_sold         int64\n",
       "price_per_unit      float64\n",
       "uom                  object\n",
       "address              object\n",
       "region               object\n",
       "customer_segment     object\n",
       "sales_rep_name       object\n",
       "date_of_sale         object\n",
       "multiple_items        int64\n",
       "dtype: object"
      ]
     },
     "execution_count": 5,
     "metadata": {},
     "output_type": "execute_result"
    }
   ],
   "source": [
    "df.dtypes"
   ]
  },
  {
   "cell_type": "code",
   "execution_count": 6,
   "id": "fa4045b0-833a-4852-98b8-7f7915c8233e",
   "metadata": {},
   "outputs": [
    {
     "data": {
      "text/plain": [
       "multiple_items\n",
       "1    7258\n",
       "0    2742\n",
       "Name: count, dtype: int64"
      ]
     },
     "execution_count": 6,
     "metadata": {},
     "output_type": "execute_result"
    }
   ],
   "source": [
    "df.multiple_items.value_counts()"
   ]
  },
  {
   "cell_type": "code",
   "execution_count": 7,
   "id": "3e51c1d8-0f8d-4fee-8c7b-da35aefcc37f",
   "metadata": {},
   "outputs": [
    {
     "data": {
      "text/plain": [
       "product_id          0\n",
       "company_id          0\n",
       "transaction_id      0\n",
       "product_name        0\n",
       "product_category    0\n",
       "sale_amount         0\n",
       "quantity_sold       0\n",
       "price_per_unit      0\n",
       "uom                 0\n",
       "address             0\n",
       "region              0\n",
       "customer_segment    0\n",
       "sales_rep_name      0\n",
       "date_of_sale        0\n",
       "multiple_items      0\n",
       "dtype: int64"
      ]
     },
     "execution_count": 7,
     "metadata": {},
     "output_type": "execute_result"
    }
   ],
   "source": [
    "df.isnull().sum()"
   ]
  },
  {
   "cell_type": "markdown",
   "id": "604b0f68-d65e-414c-ab44-f4b030215452",
   "metadata": {},
   "source": [
    "### Exploratory Data Analysis"
   ]
  },
  {
   "cell_type": "code",
   "execution_count": null,
   "id": "2234680d-7532-4b91-b133-203274183871",
   "metadata": {},
   "outputs": [],
   "source": []
  }
 ],
 "metadata": {
  "kernelspec": {
   "display_name": "Python 3 (ipykernel)",
   "language": "python",
   "name": "python3"
  },
  "language_info": {
   "codemirror_mode": {
    "name": "ipython",
    "version": 3
   },
   "file_extension": ".py",
   "mimetype": "text/x-python",
   "name": "python",
   "nbconvert_exporter": "python",
   "pygments_lexer": "ipython3",
   "version": "3.12.4"
  }
 },
 "nbformat": 4,
 "nbformat_minor": 5
}
