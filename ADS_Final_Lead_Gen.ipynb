{
 "cells": [
  {
   "cell_type": "code",
   "execution_count": 2,
   "id": "eba8ce92-ba0d-49ea-8c0b-1d1e36d25f23",
   "metadata": {},
   "outputs": [],
   "source": [
    "import pandas as pd\n",
    "import numpy as np\n",
    "import matplotlib.pyplot as plt\n",
    "import seaborn as sns"
   ]
  },
  {
   "cell_type": "code",
   "execution_count": 4,
   "id": "0a870c41-2769-40f9-a343-ae427c3845eb",
   "metadata": {},
   "outputs": [],
   "source": [
    "df = pd.read_csv(\"leadscore_dataset.csv\")"
   ]
  },
  {
   "cell_type": "code",
   "execution_count": 6,
   "id": "373c4123-4cde-49b4-95a1-717ab7d46a97",
   "metadata": {},
   "outputs": [
    {
     "data": {
      "text/html": [
       "<div>\n",
       "<style scoped>\n",
       "    .dataframe tbody tr th:only-of-type {\n",
       "        vertical-align: middle;\n",
       "    }\n",
       "\n",
       "    .dataframe tbody tr th {\n",
       "        vertical-align: top;\n",
       "    }\n",
       "\n",
       "    .dataframe thead th {\n",
       "        text-align: right;\n",
       "    }\n",
       "</style>\n",
       "<table border=\"1\" class=\"dataframe\">\n",
       "  <thead>\n",
       "    <tr style=\"text-align: right;\">\n",
       "      <th></th>\n",
       "      <th>business_unit</th>\n",
       "      <th>lead_contact</th>\n",
       "      <th>title</th>\n",
       "      <th>job_level</th>\n",
       "      <th>industry</th>\n",
       "      <th>team</th>\n",
       "      <th>channel</th>\n",
       "      <th>lead_product</th>\n",
       "      <th>sales_qualified</th>\n",
       "    </tr>\n",
       "  </thead>\n",
       "  <tbody>\n",
       "    <tr>\n",
       "      <th>0</th>\n",
       "      <td>business_unit_1</td>\n",
       "      <td>Contact</td>\n",
       "      <td>Billing Coordinator</td>\n",
       "      <td>Staff-Level</td>\n",
       "      <td>Assisted Living Facility</td>\n",
       "      <td>team_1</td>\n",
       "      <td>Webinar</td>\n",
       "      <td>product_7</td>\n",
       "      <td>0</td>\n",
       "    </tr>\n",
       "    <tr>\n",
       "      <th>1</th>\n",
       "      <td>business_unit_1</td>\n",
       "      <td>Contact</td>\n",
       "      <td>Billing Specialist</td>\n",
       "      <td>Staff-Level</td>\n",
       "      <td>Home Health</td>\n",
       "      <td>team_1</td>\n",
       "      <td>Webinar</td>\n",
       "      <td>product_27</td>\n",
       "      <td>0</td>\n",
       "    </tr>\n",
       "    <tr>\n",
       "      <th>2</th>\n",
       "      <td>business_unit_1</td>\n",
       "      <td>Lead</td>\n",
       "      <td>Executive Director</td>\n",
       "      <td>NaN</td>\n",
       "      <td>Assisted Living Facility</td>\n",
       "      <td>team_1</td>\n",
       "      <td>MDR Meeting</td>\n",
       "      <td>product_40</td>\n",
       "      <td>0</td>\n",
       "    </tr>\n",
       "    <tr>\n",
       "      <th>3</th>\n",
       "      <td>business_unit_1</td>\n",
       "      <td>Contact</td>\n",
       "      <td>Billing</td>\n",
       "      <td>NaN</td>\n",
       "      <td>Ambulatory Health Care Facilities</td>\n",
       "      <td>team_2</td>\n",
       "      <td>Inbound Call</td>\n",
       "      <td>product_1</td>\n",
       "      <td>0</td>\n",
       "    </tr>\n",
       "    <tr>\n",
       "      <th>4</th>\n",
       "      <td>business_unit_1</td>\n",
       "      <td>Lead</td>\n",
       "      <td>Billing Director</td>\n",
       "      <td>Director-Level</td>\n",
       "      <td>Physician</td>\n",
       "      <td>team_3</td>\n",
       "      <td>Webinar</td>\n",
       "      <td>product_27</td>\n",
       "      <td>0</td>\n",
       "    </tr>\n",
       "  </tbody>\n",
       "</table>\n",
       "</div>"
      ],
      "text/plain": [
       "     business_unit lead_contact                title       job_level  \\\n",
       "0  business_unit_1      Contact  Billing Coordinator     Staff-Level   \n",
       "1  business_unit_1      Contact   Billing Specialist     Staff-Level   \n",
       "2  business_unit_1         Lead   Executive Director             NaN   \n",
       "3  business_unit_1      Contact              Billing             NaN   \n",
       "4  business_unit_1         Lead     Billing Director  Director-Level   \n",
       "\n",
       "                            industry    team       channel lead_product  \\\n",
       "0           Assisted Living Facility  team_1       Webinar    product_7   \n",
       "1                        Home Health  team_1       Webinar   product_27   \n",
       "2           Assisted Living Facility  team_1   MDR Meeting   product_40   \n",
       "3  Ambulatory Health Care Facilities  team_2  Inbound Call    product_1   \n",
       "4                          Physician  team_3       Webinar   product_27   \n",
       "\n",
       "   sales_qualified  \n",
       "0                0  \n",
       "1                0  \n",
       "2                0  \n",
       "3                0  \n",
       "4                0  "
      ]
     },
     "execution_count": 6,
     "metadata": {},
     "output_type": "execute_result"
    }
   ],
   "source": [
    "df.head()"
   ]
  },
  {
   "cell_type": "code",
   "execution_count": 8,
   "id": "81395b61-31ae-4da6-81ba-3c91ce1f8416",
   "metadata": {},
   "outputs": [
    {
     "data": {
      "text/plain": [
       "(10000, 9)"
      ]
     },
     "execution_count": 8,
     "metadata": {},
     "output_type": "execute_result"
    }
   ],
   "source": [
    "df.shape"
   ]
  },
  {
   "cell_type": "code",
   "execution_count": 11,
   "id": "80559bad-3f95-41f1-b9a3-769b4da7c068",
   "metadata": {},
   "outputs": [
    {
     "data": {
      "text/plain": [
       "business_unit      object\n",
       "lead_contact       object\n",
       "title              object\n",
       "job_level          object\n",
       "industry           object\n",
       "team               object\n",
       "channel            object\n",
       "lead_product       object\n",
       "sales_qualified     int64\n",
       "dtype: object"
      ]
     },
     "execution_count": 11,
     "metadata": {},
     "output_type": "execute_result"
    }
   ],
   "source": [
    "df.dtypes"
   ]
  },
  {
   "cell_type": "code",
   "execution_count": 33,
   "id": "857a834d-e945-41ad-9ce3-0ad4de192f13",
   "metadata": {},
   "outputs": [
    {
     "data": {
      "text/plain": [
       "sales_qualified\n",
       "0    8637\n",
       "1    1363\n",
       "Name: count, dtype: int64"
      ]
     },
     "execution_count": 33,
     "metadata": {},
     "output_type": "execute_result"
    }
   ],
   "source": [
    "df.sales_qualified.value_counts()"
   ]
  },
  {
   "cell_type": "code",
   "execution_count": 36,
   "id": "68a3a6f5-2a50-4e43-871f-2c9718e6c128",
   "metadata": {},
   "outputs": [
    {
     "data": {
      "text/plain": [
       "business_unit         0\n",
       "lead_contact          0\n",
       "title               957\n",
       "job_level          4967\n",
       "industry             58\n",
       "team                  0\n",
       "channel               0\n",
       "lead_product          3\n",
       "sales_qualified       0\n",
       "dtype: int64"
      ]
     },
     "execution_count": 36,
     "metadata": {},
     "output_type": "execute_result"
    }
   ],
   "source": [
    "df.isnull().sum()"
   ]
  },
  {
   "cell_type": "markdown",
   "id": "83112383-c5da-488a-9fb9-e63f21e22630",
   "metadata": {},
   "source": [
    "### Exploratory Data Analysis"
   ]
  },
  {
   "cell_type": "code",
   "execution_count": null,
   "id": "5effd497-6dbe-4692-afa7-d878dad9922f",
   "metadata": {},
   "outputs": [],
   "source": []
  }
 ],
 "metadata": {
  "kernelspec": {
   "display_name": "Python 3 (ipykernel)",
   "language": "python",
   "name": "python3"
  },
  "language_info": {
   "codemirror_mode": {
    "name": "ipython",
    "version": 3
   },
   "file_extension": ".py",
   "mimetype": "text/x-python",
   "name": "python",
   "nbconvert_exporter": "python",
   "pygments_lexer": "ipython3",
   "version": "3.12.4"
  }
 },
 "nbformat": 4,
 "nbformat_minor": 5
}
